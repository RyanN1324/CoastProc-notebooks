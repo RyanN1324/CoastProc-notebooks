{
 "cells": [
  {
   "cell_type": "markdown",
   "id": "8d225aa1",
   "metadata": {},
   "source": [
    "# Coastal Processes, Environments & Systems - Ocean Data Query\n",
    "\n",
    "\n",
    "This part of the course focuses on coastal systems analysis using both ocean data from a variety of sources (hindcast and forecast data, satellite observations, radar, moored buoys) and numerical models of shoreline changes, wave dynamics and coral reef evolution.\n",
    "\n",
    "The emphasise will be on:\n",
    "\n",
    "+ How to query and analyse numerical and ocean data?\n",
    "+ What can we learn from ocean and wave models on coastal evolution?\n",
    "+ How to use these models and what are their limitations?\n",
    "\n",
    "\n",
    "## [Available notebooks](notebooks/QueryOcean) "
   ]
  },
  {
   "cell_type": "markdown",
   "id": "2cff5012",
   "metadata": {},
   "source": [
    "# In-class exercises\n",
    "\n",
    "### 1. [Gold Coast Wave Buoy](notebooks/QueryOcean/BuoyGoldCoast.ipynb) / BuoyGoldCoast.ipynb\n",
    "\n",
    "We plot different variables available from wave parameters collected by a wave monitoring buoy anchored in the Gold Coast.\n",
    "\n",
    "### 2. [IMOS data](notebooks/QueryOcean/OceanData1.ipynb) / OceanData1.ipynb\n",
    "\n",
    "This notebook intends to present how to load **IMOS NetCDF data** into a Jupyter environment, and offers some suggestions about how to use the data once loaded. \n",
    "\n",
    "### 3. [ACORN data](notebooks/QueryOcean/OceanData2.ipynb) / OceanData2.ipynb\n",
    "\n",
    "In this example, we first export the ACORN dataset (**NetCDF**) for a given region and then we plot the velocity field at a given time on a 2D grid."
   ]
  },
  {
   "cell_type": "code",
   "execution_count": 3,
   "id": "09658d3a",
   "metadata": {},
   "outputs": [
    {
     "data": {
      "image/jpeg": "[encoded data removed]",
      "text/html": [
       "\n",
       "        <iframe\n",
       "            width=\"760\"\n",
       "            height=\"450\"\n",
       "            src=\"https://www.youtube.com/embed/qiw0yGzfZak\"\n",
       "            frameborder=\"0\"\n",
       "            allowfullscreen\n",
       "            \n",
       "        ></iframe>\n",
       "        "
      ],
      "text/plain": [
       "<IPython.lib.display.YouTubeVideo at 0x7ff5d9358e50>"
      ]
     },
     "execution_count": 3,
     "metadata": {},
     "output_type": "execute_result"
    }
   ],
   "source": [
    "from IPython.display import YouTubeVideo\n",
    "YouTubeVideo('qiw0yGzfZak', width=760, height=450)"
   ]
  },
  {
   "cell_type": "markdown",
   "id": "1a5b6bef",
   "metadata": {},
   "source": [
    "# Practical notebooks"
   ]
  },
  {
   "cell_type": "markdown",
   "id": "b1b6473d",
   "metadata": {},
   "source": [
    "The goals of this lab are:\n",
    "+ To help you get comfortable with Jupyter notebooks. (We will use it throughout our modelling lectures and practicals).\n",
    "+ To show you some examples of dataset coming from different systems: buoys & models.\n",
    "+ To familiarize you with the different open data services and the most common data formats."
   ]
  },
  {
   "cell_type": "markdown",
   "id": "c36cf2bf",
   "metadata": {},
   "source": [
    "### 1. [Waverider](notebooks/QueryOcean/Waverider.ipynb) / Waverider.ipynb\n",
    "\n",
    "The NSW Wave Climate Program utilises a network of seven Waverider stations along the NSW coast. The buoys are located off _Byron Bay_, _Coffs Harbour_, _Crowdy Head_, _Sydney_, _Port Kembla_, _Batemans Bay_ and _Eden_. \n",
    "\n",
    "To provide deepwater wave data, the buoys are typically moored in water depths between 60 and 100 metres, between 6 and 12 kilometres from the shoreline. In this notebook, you will first load the historical records for the buoy located Offshore Sydney.\n",
    "\n",
    "### 2. [Ocean Forecast Model](notebooks/QueryOcean/Oceanforecast.ipynb) / Oceanforecast.ipynb\n",
    "\n",
    "We have seen how to use real observations to assess wave conditions. Now we will work with a forecast model called **FVCOM** (Finite-Volume, primitive equation Community Ocean Model) and analyse the future conditions in Gulf of Maine area.\n"
   ]
  },
  {
   "cell_type": "code",
   "execution_count": null,
   "id": "da5d63a6",
   "metadata": {},
   "outputs": [],
   "source": []
  }
 ],
 "metadata": {
  "kernelspec": {
   "display_name": "Python 3 (ipykernel)",
   "language": "python",
   "name": "python3"
  },
  "language_info": {
   "codemirror_mode": {
    "name": "ipython",
    "version": 3
   },
   "file_extension": ".py",
   "mimetype": "text/x-python",
   "name": "python",
   "nbconvert_exporter": "python",
   "pygments_lexer": "ipython3",
   "version": "3.8.15"
  }
 },
 "nbformat": 4,
 "nbformat_minor": 5
}
