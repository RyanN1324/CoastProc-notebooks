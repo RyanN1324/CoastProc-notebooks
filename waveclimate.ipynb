{
 "cells": [
  {
   "cell_type": "markdown",
   "id": "b34891fe",
   "metadata": {},
   "source": [
    "# Coastal Processes, Environments & Systems - Analysing Wave Climate \n",
    "\n",
    "\n",
    "This part of the course presents different tools used to analyse and characterise wave climates.\n",
    "\n",
    "\n",
    "## [Available notebooks](notebooks/WaveClim) "
   ]
  },
  {
   "cell_type": "markdown",
   "id": "8d29ca8d",
   "metadata": {},
   "source": [
    "# In-class exercises\n",
    "\n",
    "### 1. Wave Climate from Satellite Imagery\n",
    "\n",
    "In the first 3 examples, we will illustrate how to extract wave conditions based on altimeter data for specific geographical regions and along Cyclone tracks with [**RADWave**](https://radwave.readthedocs.io/en/latest/usage.html#getting-altimeter-values-from-data-providers).\n",
    "\n",
    "#### Exercise 1 [Wave analysis OffShore Sydney](notebooks/WaveClim/WaveAnalysis.ipynb) / WaveAnalysis.ipynb\n",
    "\n",
    "#### Exercise 2 [Wave analysis OffShore NZ](notebooks/WaveClim/ClimateVariabilityNZ.ipynb) / ClimateVariabilityNZ.ipynb\n",
    "\n",
    "#### Exercise 3 [Cyclone Yasi analysis](notebooks/WaveClim/CycloneYasi.ipynb) / CycloneYasi.ipynb\n",
    "\n",
    "#### Exercise 4 [Wave analysis using Synthetic Aperture Radar](notebooks/WaveClim/SAR_waves.ipynb) / SAR_waves.ipynb\n",
    "\n",
    "In this last example, we read a daily along-track netCDF file and visualise selected measurements off Albany, WA on a map."
   ]
  },
  {
   "cell_type": "markdown",
   "id": "e9c8318d",
   "metadata": {},
   "source": [
    "### 2. [Directional distribution of East Coast Lows wave heights](notebooks/WaveClim/ECL_analysis.ipynb) / ECL_analysis.ipynb \n",
    "\n"
   ]
  },
  {
   "cell_type": "markdown",
   "id": "99b307ee",
   "metadata": {},
   "source": [
    "# Practical notebooks\n",
    "\n",
    "To plot beach profile data in this week practical, you can use the built-in plotting tools provided in the following jupyter notebooks.\n",
    "\n",
    "### 1. [Narrabeen-Collaroy Beach Profile Plots](notebooks/WaveClim/selectProfiles.ipynb) / selectProfiles.ipynb\n",
    "\n",
    "It loads the profile data and shows example codes of how to overlay profiles at a particular location at different times and how to compare profiles from select dates.\n",
    "\n",
    "### 2. [Narrabeen-Collaroy Inshore Waves](notebooks/WaveClim/InshoreWaves.ipynb) / InshoreWaves.ipynb\n",
    "\n",
    "This notebook shows the inshore wave data and gives examples of how to plot waves at a single profile. It also provides examples of how to compare wave conditions between two profiles over a certain period of time (in this case, one year)."
   ]
  },
  {
   "cell_type": "code",
   "execution_count": null,
   "id": "06daf778",
   "metadata": {},
   "outputs": [],
   "source": []
  }
 ],
 "metadata": {
  "kernelspec": {
   "display_name": "Python 3 (ipykernel)",
   "language": "python",
   "name": "python3"
  },
  "language_info": {
   "codemirror_mode": {
    "name": "ipython",
    "version": 3
   },
   "file_extension": ".py",
   "mimetype": "text/x-python",
   "name": "python",
   "nbconvert_exporter": "python",
   "pygments_lexer": "ipython3",
   "version": "3.8.15"
  }
 },
 "nbformat": 4,
 "nbformat_minor": 5
}
